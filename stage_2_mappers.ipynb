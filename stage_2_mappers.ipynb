{
 "cells": [
  {
   "cell_type": "code",
   "execution_count": 1,
   "id": "237d7ab2-a1f6-4b7e-9e4c-8ca17f9cb03e",
   "metadata": {},
   "outputs": [
    {
     "name": "stderr",
     "output_type": "stream",
     "text": [
      "2024-05-03 06:01:39.661524: I tensorflow/core/util/port.cc:113] oneDNN custom operations are on. You may see slightly different numerical results due to floating-point round-off errors from different computation orders. To turn them off, set the environment variable `TF_ENABLE_ONEDNN_OPTS=0`.\n",
      "2024-05-03 06:01:40.819090: I tensorflow/core/platform/cpu_feature_guard.cc:210] This TensorFlow binary is optimized to use available CPU instructions in performance-critical operations.\n",
      "To enable the following instructions: AVX2 AVX512F AVX512_VNNI FMA, in other operations, rebuild TensorFlow with the appropriate compiler flags.\n"
     ]
    }
   ],
   "source": [
    "import glob\n",
    "import os\n",
    "import random\n",
    "\n",
    "import matplotlib.pyplot as plt\n",
    "import numpy as np\n",
    "import seaborn as sns\n",
    "import tensorflow as tf\n",
    "from sklearn.metrics import confusion_matrix\n",
    "from sklearn.model_selection import train_test_split\n",
    "from src.datagenerator import DataGenerator, DataLoader, z_score\n",
    "from src.performance_evaluation import compute_PCA, plot_confusion_matrix, plot_PCA\n",
    "from src.util import plot_voxel\n",
    "\n",
    "# load vae model\n",
    "from src.vae import vae_model\n",
    "\n",
    "os.environ[\"CUDA_VISIBLE_DEVICES\"] = \"0\""
   ]
  },
  {
   "cell_type": "code",
   "execution_count": 3,
   "id": "a8521bd8-fdfd-47c4-9c0b-cf63cc08a0b9",
   "metadata": {},
   "outputs": [
    {
     "name": "stdout",
     "output_type": "stream",
     "text": [
      "2.16.1\n"
     ]
    }
   ],
   "source": [
    "print(tf.__version__)"
   ]
  },
  {
   "cell_type": "markdown",
   "id": "e58f729a-1865-4a1d-99ea-df8b8ddd1ba6",
   "metadata": {},
   "source": [
    "# Stage 2\n",
    "\n",
    "**1. Training of the material classificator $\\Upsilon$**\n",
    "\n",
    "**2. Training of the mapper $\\Xi$**"
   ]
  },
  {
   "cell_type": "markdown",
   "id": "62fb0537-8881-4d4d-9cf6-3ab3cd394e72",
   "metadata": {},
   "source": [
    "## Material classificator $\\Upsilon$"
   ]
  },
  {
   "cell_type": "markdown",
   "id": "04222d08-8ec7-45c9-9b00-f43b21e03686",
   "metadata": {
    "tags": []
   },
   "source": [
    "### *i)* DNN"
   ]
  },
  {
   "cell_type": "raw",
   "id": "206f46b8-bfa5-4261-ba5f-4d11d24bd7db",
   "metadata": {},
   "source": [
    "datagenerator = False\n",
    "\n",
    "params = {\n",
    "    \"path\": \"../3dIT/measurements/datapool/\",\n",
    "    \"mean_path\": \"../3dIT/measurements/datameans/\",\n",
    "    \"eit_dim\": 4096,\n",
    "    \"supervised\": \"material\",  # \"diameter\" or \"material\"\n",
    "    \"batch_size\": 128,\n",
    "    \"shuffle\": True,\n",
    "    \"EIT_shape\": \"vector\",\n",
    "}\n",
    "\n",
    "if datagenerator:\n",
    "\n",
    "    idx = np.arange(0, len(os.listdir(params[\"path\"])))\n",
    "    np.random.shuffle(idx)\n",
    "\n",
    "    limit_index = 100_000\n",
    "\n",
    "    training_generator = DataGenerator(idx[:limit_index], **params)\n",
    "    test_____generator = DataGenerator(idx[limit_index:], **params)\n",
    "    X, Y = training_generator[0]\n",
    "else:\n",
    "    X, Y = DataLoader(params)\n",
    "    X = z_score(X)"
   ]
  },
  {
   "cell_type": "raw",
   "id": "13240ee9-9086-44d1-8fde-c06434ca1d6a",
   "metadata": {},
   "source": [
    "X_train, X_test, Y_train, Y_test = train_test_split(\n",
    "    X, Y, test_size=0.05, random_state=42\n",
    ")"
   ]
  },
  {
   "cell_type": "raw",
   "id": "9cf00adb-867b-4df8-8437-39f84f93827f",
   "metadata": {},
   "source": [
    "print(X_train.shape, X_test.shape, Y_train.shape, Y_test.shape)"
   ]
  },
  {
   "cell_type": "raw",
   "id": "cb709d3d-65af-4827-8809-1dfbc9a528fe",
   "metadata": {},
   "source": [
    "def material_classificator_model_DNN(input_shape=(4_096), latent_dim=1):\n",
    "    # hyperparameter tuning\n",
    "    # dropout, layer, activation function,tunner structures\n",
    "\n",
    "    mapper_inputs = tf.keras.layers.Input(shape=input_shape)\n",
    "    # x = tf.keras.layers.Flatten()(mapper_inputs)\n",
    "    x = tf.keras.layers.Dense(512, activation=\"relu\")(mapper_inputs)\n",
    "    x = tf.keras.layers.Dense(256, activation=\"relu\")(x)\n",
    "    x = tf.keras.layers.Dense(64, activation=\"relu\")(x)\n",
    "    x = tf.keras.layers.Dense(16, activation=\"relu\")(x)\n",
    "    x = tf.keras.layers.Dense(latent_dim, activation=\"relu\")(x)\n",
    "\n",
    "    return tf.keras.Model(mapper_inputs, x)\n",
    "\n",
    "\n",
    "material_classificator_DNN = material_classificator_model_DNN()\n",
    "material_classificator_DNN.summary()"
   ]
  },
  {
   "cell_type": "raw",
   "id": "930a31c0-7bf3-46db-851a-42b2098c78fa",
   "metadata": {},
   "source": [
    "material_classificator_DNN.compile(tf.optimizers.Adam(), loss=\"mse\")"
   ]
  },
  {
   "cell_type": "raw",
   "id": "2dd2842c-e17f-4bfd-a033-e108f82e0e04",
   "metadata": {},
   "source": [
    "if datagenerator:\n",
    "    classificator_history_DNN = material_classificator_DNN.fit(\n",
    "        training_generator, epochs=500, batch_size=128\n",
    "    )\n",
    "else:\n",
    "    classificator_history_DNN = material_classificator_DNN.fit(\n",
    "        X_train, Y_train, epochs=50, batch_size=128\n",
    "    )"
   ]
  },
  {
   "cell_type": "raw",
   "id": "d390ff02-8f0b-41be-a04a-4553a709eb1d",
   "metadata": {},
   "source": [
    "Y_pred = np.concatenate(np.round(material_classificator_DNN.predict(X_test)))"
   ]
  },
  {
   "cell_type": "raw",
   "id": "536d37ea-f08b-45bb-be6e-61d2b9d4425b",
   "metadata": {},
   "source": [
    "plot_confusion_matrix(Y_pred)"
   ]
  },
  {
   "cell_type": "markdown",
   "id": "8a2e5cb6-4748-429c-9606-a95933df23e8",
   "metadata": {},
   "source": [
    "## *ii)* CNN"
   ]
  },
  {
   "cell_type": "code",
   "execution_count": 3,
   "id": "0d165f01-1c51-4a4f-a548-4c7ef47d4728",
   "metadata": {},
   "outputs": [
    {
     "name": "stderr",
     "output_type": "stream",
     "text": [
      "100%|██████████| 50/50 [00:01<00:00, 33.25it/s]"
     ]
    },
    {
     "name": "stdout",
     "output_type": "stream",
     "text": [
      "(50, 64, 64, 1) (50,)\n"
     ]
    },
    {
     "name": "stderr",
     "output_type": "stream",
     "text": [
      "\n"
     ]
    }
   ],
   "source": [
    "datagenerator = False\n",
    "\n",
    "params = {\n",
    "    \"path\": \"../3dIT/measurements/datapool/\",\n",
    "    \"mean_path\": \"../3dIT/measurements/datameans/\",\n",
    "    \"eit_dim\": 4096,\n",
    "    \"supervised\": \"material\",  # \"diameter\" or \"material\"\n",
    "    \"batch_size\": 128,\n",
    "    \"shuffle\": True,\n",
    "    \"EIT_shape\": \"matrix\",\n",
    "}\n",
    "\n",
    "if datagenerator:\n",
    "\n",
    "    idx = np.arange(0, len(os.listdir(params[\"path\"])))\n",
    "    np.random.shuffle(idx)\n",
    "\n",
    "    limit_index = 100_000\n",
    "\n",
    "    training_generator = DataGenerator(idx[:limit_index], **params)\n",
    "    test_____generator = DataGenerator(idx[limit_index:], **params)\n",
    "    X, Y = training_generator[0]\n",
    "else:\n",
    "    X, Y = DataLoader(params, n_earlystop=50)\n",
    "    X = z_score(X)\n",
    "    X = np.expand_dims(X, axis=3)\n",
    "    print(X.shape, Y.shape)"
   ]
  },
  {
   "cell_type": "code",
   "execution_count": 4,
   "id": "e4ab2bf5-1eb4-4d48-8b45-b4b7b74b52bc",
   "metadata": {},
   "outputs": [
    {
     "name": "stdout",
     "output_type": "stream",
     "text": [
      "(50, 64, 64, 1) (50,)\n"
     ]
    }
   ],
   "source": [
    "print(X.shape, Y.shape)"
   ]
  },
  {
   "cell_type": "code",
   "execution_count": 5,
   "id": "345fbfdf-f5e8-4e99-afb6-d134f12a5fb7",
   "metadata": {},
   "outputs": [],
   "source": [
    "X_train, X_test, Y_train, Y_test = train_test_split(\n",
    "    X, Y, test_size=0.5, random_state=42\n",
    ")"
   ]
  },
  {
   "cell_type": "code",
   "execution_count": 6,
   "id": "a01d2bd6-5e57-4333-a5cc-11a6626e76f0",
   "metadata": {},
   "outputs": [
    {
     "data": {
      "image/png": "[encoded data removed]",
      "text/plain": [
       "<Figure size 600x400 with 1 Axes>"
      ]
     },
     "metadata": {},
     "output_type": "display_data"
    }
   ],
   "source": [
    "data_pca = compute_PCA(X_train)\n",
    "plot_PCA(data_pca, Y_train)"
   ]
  },
  {
   "cell_type": "code",
   "execution_count": 7,
   "id": "80fa8d92-78ba-4fd4-8dbe-e66927dc94b6",
   "metadata": {},
   "outputs": [
    {
     "data": {
      "image/png": "[encoded data removed]",
      "text/plain": [
       "<Figure size 600x400 with 1 Axes>"
      ]
     },
     "metadata": {},
     "output_type": "display_data"
    }
   ],
   "source": [
    "data_pca = compute_PCA(X_test)\n",
    "plot_PCA(data_pca, Y_test)"
   ]
  },
  {
   "cell_type": "code",
   "execution_count": 8,
   "id": "109f62b4-0f05-4011-b7ad-59ba282caba1",
   "metadata": {},
   "outputs": [
    {
     "name": "stdout",
     "output_type": "stream",
     "text": [
      "(25, 64, 64, 1) (25, 64, 64, 1) (25,) (25,)\n"
     ]
    }
   ],
   "source": [
    "print(X_train.shape, X_test.shape, Y_train.shape, Y_test.shape)"
   ]
  },
  {
   "cell_type": "code",
   "execution_count": 37,
   "id": "e6b57e69-be47-423b-ab6b-bb38eb5d7c97",
   "metadata": {},
   "outputs": [
    {
     "data": {
      "text/html": [
       "<pre style=\"white-space:pre;overflow-x:auto;line-height:normal;font-family:Menlo,'DejaVu Sans Mono',consolas,'Courier New',monospace\"><span style=\"font-weight: bold\">Model: \"functional_7\"</span>\n",
       "</pre>\n"
      ],
      "text/plain": [
       "\u001b[1mModel: \"functional_7\"\u001b[0m\n"
      ]
     },
     "metadata": {},
     "output_type": "display_data"
    },
    {
     "data": {
      "text/html": [
       "<pre style=\"white-space:pre;overflow-x:auto;line-height:normal;font-family:Menlo,'DejaVu Sans Mono',consolas,'Courier New',monospace\">┏━━━━━━━━━━━━━━━━━━━━━━━━━━━━━━━━━┳━━━━━━━━━━━━━━━━━━━━━━━━┳━━━━━━━━━━━━━━━┓\n",
       "┃<span style=\"font-weight: bold\"> Layer (type)                    </span>┃<span style=\"font-weight: bold\"> Output Shape           </span>┃<span style=\"font-weight: bold\">       Param # </span>┃\n",
       "┡━━━━━━━━━━━━━━━━━━━━━━━━━━━━━━━━━╇━━━━━━━━━━━━━━━━━━━━━━━━╇━━━━━━━━━━━━━━━┩\n",
       "│ input_layer_3 (<span style=\"color: #0087ff; text-decoration-color: #0087ff\">InputLayer</span>)      │ (<span style=\"color: #00d7ff; text-decoration-color: #00d7ff\">None</span>, <span style=\"color: #00af00; text-decoration-color: #00af00\">64</span>, <span style=\"color: #00af00; text-decoration-color: #00af00\">64</span>, <span style=\"color: #00af00; text-decoration-color: #00af00\">1</span>)      │             <span style=\"color: #00af00; text-decoration-color: #00af00\">0</span> │\n",
       "├─────────────────────────────────┼────────────────────────┼───────────────┤\n",
       "│ conv2d_12 (<span style=\"color: #0087ff; text-decoration-color: #0087ff\">Conv2D</span>)              │ (<span style=\"color: #00d7ff; text-decoration-color: #00d7ff\">None</span>, <span style=\"color: #00af00; text-decoration-color: #00af00\">32</span>, <span style=\"color: #00af00; text-decoration-color: #00af00\">16</span>, <span style=\"color: #00af00; text-decoration-color: #00af00\">8</span>)      │            <span style=\"color: #00af00; text-decoration-color: #00af00\">80</span> │\n",
       "├─────────────────────────────────┼────────────────────────┼───────────────┤\n",
       "│ conv2d_13 (<span style=\"color: #0087ff; text-decoration-color: #0087ff\">Conv2D</span>)              │ (<span style=\"color: #00d7ff; text-decoration-color: #00d7ff\">None</span>, <span style=\"color: #00af00; text-decoration-color: #00af00\">16</span>, <span style=\"color: #00af00; text-decoration-color: #00af00\">4</span>, <span style=\"color: #00af00; text-decoration-color: #00af00\">8</span>)       │           <span style=\"color: #00af00; text-decoration-color: #00af00\">584</span> │\n",
       "├─────────────────────────────────┼────────────────────────┼───────────────┤\n",
       "│ conv2d_14 (<span style=\"color: #0087ff; text-decoration-color: #0087ff\">Conv2D</span>)              │ (<span style=\"color: #00d7ff; text-decoration-color: #00d7ff\">None</span>, <span style=\"color: #00af00; text-decoration-color: #00af00\">8</span>, <span style=\"color: #00af00; text-decoration-color: #00af00\">1</span>, <span style=\"color: #00af00; text-decoration-color: #00af00\">16</span>)       │         <span style=\"color: #00af00; text-decoration-color: #00af00\">1,168</span> │\n",
       "├─────────────────────────────────┼────────────────────────┼───────────────┤\n",
       "│ conv2d_15 (<span style=\"color: #0087ff; text-decoration-color: #0087ff\">Conv2D</span>)              │ (<span style=\"color: #00d7ff; text-decoration-color: #00d7ff\">None</span>, <span style=\"color: #00af00; text-decoration-color: #00af00\">4</span>, <span style=\"color: #00af00; text-decoration-color: #00af00\">1</span>, <span style=\"color: #00af00; text-decoration-color: #00af00\">16</span>)       │         <span style=\"color: #00af00; text-decoration-color: #00af00\">2,320</span> │\n",
       "├─────────────────────────────────┼────────────────────────┼───────────────┤\n",
       "│ flatten_3 (<span style=\"color: #0087ff; text-decoration-color: #0087ff\">Flatten</span>)             │ (<span style=\"color: #00d7ff; text-decoration-color: #00d7ff\">None</span>, <span style=\"color: #00af00; text-decoration-color: #00af00\">64</span>)             │             <span style=\"color: #00af00; text-decoration-color: #00af00\">0</span> │\n",
       "├─────────────────────────────────┼────────────────────────┼───────────────┤\n",
       "│ dense_3 (<span style=\"color: #0087ff; text-decoration-color: #0087ff\">Dense</span>)                 │ (<span style=\"color: #00d7ff; text-decoration-color: #00d7ff\">None</span>, <span style=\"color: #00af00; text-decoration-color: #00af00\">1</span>)              │            <span style=\"color: #00af00; text-decoration-color: #00af00\">65</span> │\n",
       "└─────────────────────────────────┴────────────────────────┴───────────────┘\n",
       "</pre>\n"
      ],
      "text/plain": [
       "┏━━━━━━━━━━━━━━━━━━━━━━━━━━━━━━━━━┳━━━━━━━━━━━━━━━━━━━━━━━━┳━━━━━━━━━━━━━━━┓\n",
       "┃\u001b[1m \u001b[0m\u001b[1mLayer (type)                   \u001b[0m\u001b[1m \u001b[0m┃\u001b[1m \u001b[0m\u001b[1mOutput Shape          \u001b[0m\u001b[1m \u001b[0m┃\u001b[1m \u001b[0m\u001b[1m      Param #\u001b[0m\u001b[1m \u001b[0m┃\n",
       "┡━━━━━━━━━━━━━━━━━━━━━━━━━━━━━━━━━╇━━━━━━━━━━━━━━━━━━━━━━━━╇━━━━━━━━━━━━━━━┩\n",
       "│ input_layer_3 (\u001b[38;5;33mInputLayer\u001b[0m)      │ (\u001b[38;5;45mNone\u001b[0m, \u001b[38;5;34m64\u001b[0m, \u001b[38;5;34m64\u001b[0m, \u001b[38;5;34m1\u001b[0m)      │             \u001b[38;5;34m0\u001b[0m │\n",
       "├─────────────────────────────────┼────────────────────────┼───────────────┤\n",
       "│ conv2d_12 (\u001b[38;5;33mConv2D\u001b[0m)              │ (\u001b[38;5;45mNone\u001b[0m, \u001b[38;5;34m32\u001b[0m, \u001b[38;5;34m16\u001b[0m, \u001b[38;5;34m8\u001b[0m)      │            \u001b[38;5;34m80\u001b[0m │\n",
       "├─────────────────────────────────┼────────────────────────┼───────────────┤\n",
       "│ conv2d_13 (\u001b[38;5;33mConv2D\u001b[0m)              │ (\u001b[38;5;45mNone\u001b[0m, \u001b[38;5;34m16\u001b[0m, \u001b[38;5;34m4\u001b[0m, \u001b[38;5;34m8\u001b[0m)       │           \u001b[38;5;34m584\u001b[0m │\n",
       "├─────────────────────────────────┼────────────────────────┼───────────────┤\n",
       "│ conv2d_14 (\u001b[38;5;33mConv2D\u001b[0m)              │ (\u001b[38;5;45mNone\u001b[0m, \u001b[38;5;34m8\u001b[0m, \u001b[38;5;34m1\u001b[0m, \u001b[38;5;34m16\u001b[0m)       │         \u001b[38;5;34m1,168\u001b[0m │\n",
       "├─────────────────────────────────┼────────────────────────┼───────────────┤\n",
       "│ conv2d_15 (\u001b[38;5;33mConv2D\u001b[0m)              │ (\u001b[38;5;45mNone\u001b[0m, \u001b[38;5;34m4\u001b[0m, \u001b[38;5;34m1\u001b[0m, \u001b[38;5;34m16\u001b[0m)       │         \u001b[38;5;34m2,320\u001b[0m │\n",
       "├─────────────────────────────────┼────────────────────────┼───────────────┤\n",
       "│ flatten_3 (\u001b[38;5;33mFlatten\u001b[0m)             │ (\u001b[38;5;45mNone\u001b[0m, \u001b[38;5;34m64\u001b[0m)             │             \u001b[38;5;34m0\u001b[0m │\n",
       "├─────────────────────────────────┼────────────────────────┼───────────────┤\n",
       "│ dense_3 (\u001b[38;5;33mDense\u001b[0m)                 │ (\u001b[38;5;45mNone\u001b[0m, \u001b[38;5;34m1\u001b[0m)              │            \u001b[38;5;34m65\u001b[0m │\n",
       "└─────────────────────────────────┴────────────────────────┴───────────────┘\n"
      ]
     },
     "metadata": {},
     "output_type": "display_data"
    },
    {
     "data": {
      "text/html": [
       "<pre style=\"white-space:pre;overflow-x:auto;line-height:normal;font-family:Menlo,'DejaVu Sans Mono',consolas,'Courier New',monospace\"><span style=\"font-weight: bold\"> Total params: </span><span style=\"color: #00af00; text-decoration-color: #00af00\">4,217</span> (16.47 KB)\n",
       "</pre>\n"
      ],
      "text/plain": [
       "\u001b[1m Total params: \u001b[0m\u001b[38;5;34m4,217\u001b[0m (16.47 KB)\n"
      ]
     },
     "metadata": {},
     "output_type": "display_data"
    },
    {
     "data": {
      "text/html": [
       "<pre style=\"white-space:pre;overflow-x:auto;line-height:normal;font-family:Menlo,'DejaVu Sans Mono',consolas,'Courier New',monospace\"><span style=\"font-weight: bold\"> Trainable params: </span><span style=\"color: #00af00; text-decoration-color: #00af00\">4,217</span> (16.47 KB)\n",
       "</pre>\n"
      ],
      "text/plain": [
       "\u001b[1m Trainable params: \u001b[0m\u001b[38;5;34m4,217\u001b[0m (16.47 KB)\n"
      ]
     },
     "metadata": {},
     "output_type": "display_data"
    },
    {
     "data": {
      "text/html": [
       "<pre style=\"white-space:pre;overflow-x:auto;line-height:normal;font-family:Menlo,'DejaVu Sans Mono',consolas,'Courier New',monospace\"><span style=\"font-weight: bold\"> Non-trainable params: </span><span style=\"color: #00af00; text-decoration-color: #00af00\">0</span> (0.00 B)\n",
       "</pre>\n"
      ],
      "text/plain": [
       "\u001b[1m Non-trainable params: \u001b[0m\u001b[38;5;34m0\u001b[0m (0.00 B)\n"
      ]
     },
     "metadata": {},
     "output_type": "display_data"
    }
   ],
   "source": [
    "def material_classificator_model_CNN(input_shape=(64, 64, 1), latent_dim=1, kernel=3):\n",
    "    # optional aditional layer\n",
    "    # x = MaxPooling2D(pool_size=(2,4))(x)\n",
    "    # x = BatchNormalization()(x)\n",
    "    # x = Activation(\"elu\")(x)\n",
    "    # x = Dropout(0.5)(x)\n",
    "\n",
    "    mapper_input = tf.keras.layers.Input(shape=input_shape)\n",
    "    # normalize input data\n",
    "    # x = Xscaler(mapper_input)\n",
    "    x = tf.keras.layers.Conv2D(8, kernel, strides=(2, 4), padding=\"same\")(mapper_input)\n",
    "    x = tf.keras.layers.Conv2D(8, kernel, strides=(2, 4), padding=\"same\")(x)\n",
    "    x = tf.keras.layers.Conv2D(16, kernel, strides=(2, 4), padding=\"same\")(x)\n",
    "    x = tf.keras.layers.Conv2D(16, kernel, strides=(2, 4), padding=\"same\")(x)\n",
    "    x = tf.keras.layers.Flatten()(x)\n",
    "    # x = Dense(latent_dim, activation=\"elu\")(x)\n",
    "    mapper_output = tf.keras.layers.Dense(latent_dim, activation=\"linear\")(x)\n",
    "\n",
    "    return tf.keras.Model(mapper_input, mapper_output)\n",
    "\n",
    "\n",
    "material_classificator_CNN = material_classificator_model_CNN()\n",
    "material_classificator_CNN.summary()"
   ]
  },
  {
   "cell_type": "code",
   "execution_count": 38,
   "id": "bd013f3c-10c9-496c-94e2-6a8d69e6212c",
   "metadata": {},
   "outputs": [],
   "source": [
    "material_classificator_CNN.compile(tf.optimizers.Adam(learning_rate=0.005), loss=\"mse\")"
   ]
  },
  {
   "cell_type": "code",
   "execution_count": 39,
   "id": "57b7861f-0f77-41db-8281-ec88c3514a62",
   "metadata": {},
   "outputs": [
    {
     "name": "stdout",
     "output_type": "stream",
     "text": [
      "Epoch 1/20\n",
      "\u001b[1m486/486\u001b[0m \u001b[32m━━━━━━━━━━━━━━━━━━━━\u001b[0m\u001b[37m\u001b[0m \u001b[1m4s\u001b[0m 6ms/step - loss: 0.0446\n",
      "Epoch 2/20\n",
      "\u001b[1m486/486\u001b[0m \u001b[32m━━━━━━━━━━━━━━━━━━━━\u001b[0m\u001b[37m\u001b[0m \u001b[1m2s\u001b[0m 4ms/step - loss: 0.0021\n",
      "Epoch 3/20\n",
      "\u001b[1m486/486\u001b[0m \u001b[32m━━━━━━━━━━━━━━━━━━━━\u001b[0m\u001b[37m\u001b[0m \u001b[1m2s\u001b[0m 4ms/step - loss: 0.0016\n",
      "Epoch 4/20\n",
      "\u001b[1m486/486\u001b[0m \u001b[32m━━━━━━━━━━━━━━━━━━━━\u001b[0m\u001b[37m\u001b[0m \u001b[1m2s\u001b[0m 4ms/step - loss: 0.0014\n",
      "Epoch 5/20\n",
      "\u001b[1m486/486\u001b[0m \u001b[32m━━━━━━━━━━━━━━━━━━━━\u001b[0m\u001b[37m\u001b[0m \u001b[1m2s\u001b[0m 4ms/step - loss: 0.0012\n",
      "Epoch 6/20\n",
      "\u001b[1m486/486\u001b[0m \u001b[32m━━━━━━━━━━━━━━━━━━━━\u001b[0m\u001b[37m\u001b[0m \u001b[1m2s\u001b[0m 4ms/step - loss: 0.0011\n",
      "Epoch 7/20\n",
      "\u001b[1m486/486\u001b[0m \u001b[32m━━━━━━━━━━━━━━━━━━━━\u001b[0m\u001b[37m\u001b[0m \u001b[1m2s\u001b[0m 4ms/step - loss: 0.0012\n",
      "Epoch 8/20\n",
      "\u001b[1m486/486\u001b[0m \u001b[32m━━━━━━━━━━━━━━━━━━━━\u001b[0m\u001b[37m\u001b[0m \u001b[1m2s\u001b[0m 4ms/step - loss: 0.0012\n",
      "Epoch 9/20\n",
      "\u001b[1m486/486\u001b[0m \u001b[32m━━━━━━━━━━━━━━━━━━━━\u001b[0m\u001b[37m\u001b[0m \u001b[1m2s\u001b[0m 4ms/step - loss: 9.5717e-04\n",
      "Epoch 10/20\n",
      "\u001b[1m486/486\u001b[0m \u001b[32m━━━━━━━━━━━━━━━━━━━━\u001b[0m\u001b[37m\u001b[0m \u001b[1m2s\u001b[0m 4ms/step - loss: 0.0010\n",
      "Epoch 11/20\n",
      "\u001b[1m486/486\u001b[0m \u001b[32m━━━━━━━━━━━━━━━━━━━━\u001b[0m\u001b[37m\u001b[0m \u001b[1m2s\u001b[0m 4ms/step - loss: 8.6447e-04\n",
      "Epoch 12/20\n",
      "\u001b[1m486/486\u001b[0m \u001b[32m━━━━━━━━━━━━━━━━━━━━\u001b[0m\u001b[37m\u001b[0m \u001b[1m2s\u001b[0m 4ms/step - loss: 9.4666e-04\n",
      "Epoch 13/20\n",
      "\u001b[1m486/486\u001b[0m \u001b[32m━━━━━━━━━━━━━━━━━━━━\u001b[0m\u001b[37m\u001b[0m \u001b[1m2s\u001b[0m 4ms/step - loss: 7.8411e-04\n",
      "Epoch 14/20\n",
      "\u001b[1m486/486\u001b[0m \u001b[32m━━━━━━━━━━━━━━━━━━━━\u001b[0m\u001b[37m\u001b[0m \u001b[1m2s\u001b[0m 4ms/step - loss: 8.7808e-04\n",
      "Epoch 15/20\n",
      "\u001b[1m486/486\u001b[0m \u001b[32m━━━━━━━━━━━━━━━━━━━━\u001b[0m\u001b[37m\u001b[0m \u001b[1m2s\u001b[0m 4ms/step - loss: 8.8914e-04\n",
      "Epoch 16/20\n",
      "\u001b[1m486/486\u001b[0m \u001b[32m━━━━━━━━━━━━━━━━━━━━\u001b[0m\u001b[37m\u001b[0m \u001b[1m2s\u001b[0m 4ms/step - loss: 7.5252e-04\n",
      "Epoch 17/20\n",
      "\u001b[1m486/486\u001b[0m \u001b[32m━━━━━━━━━━━━━━━━━━━━\u001b[0m\u001b[37m\u001b[0m \u001b[1m2s\u001b[0m 4ms/step - loss: 7.4371e-04\n",
      "Epoch 18/20\n",
      "\u001b[1m486/486\u001b[0m \u001b[32m━━━━━━━━━━━━━━━━━━━━\u001b[0m\u001b[37m\u001b[0m \u001b[1m2s\u001b[0m 4ms/step - loss: 7.1835e-04\n",
      "Epoch 19/20\n",
      "\u001b[1m486/486\u001b[0m \u001b[32m━━━━━━━━━━━━━━━━━━━━\u001b[0m\u001b[37m\u001b[0m \u001b[1m2s\u001b[0m 4ms/step - loss: 7.8914e-04\n",
      "Epoch 20/20\n",
      "\u001b[1m486/486\u001b[0m \u001b[32m━━━━━━━━━━━━━━━━━━━━\u001b[0m\u001b[37m\u001b[0m \u001b[1m2s\u001b[0m 4ms/step - loss: 7.7882e-04\n"
     ]
    }
   ],
   "source": [
    "if datagenerator:\n",
    "    classificator_history_CNN = material_classificator_CNN.fit(\n",
    "        training_generator, epochs=50, batch_size=128\n",
    "    )\n",
    "else:\n",
    "    classificator_history_CNN = material_classificator_CNN.fit(\n",
    "        X_train,\n",
    "        Y_train,\n",
    "        epochs=20,\n",
    "        batch_size=params[\"batch_size\"],\n",
    "    )"
   ]
  },
  {
   "cell_type": "code",
   "execution_count": 52,
   "id": "89d993aa-4f13-4913-8f82-c2a67e5a1958",
   "metadata": {},
   "outputs": [
    {
     "data": {
      "text/plain": [
       "[<matplotlib.lines.Line2D at 0x7fdbb273c750>]"
      ]
     },
     "execution_count": 52,
     "metadata": {},
     "output_type": "execute_result"
    },
    {
     "data": {
      "image/png": "[encoded data removed]",
      "text/plain": [
       "<Figure size 640x480 with 1 Axes>"
      ]
     },
     "metadata": {},
     "output_type": "display_data"
    }
   ],
   "source": [
    "plt.plot(classificator_history_CNN.history[\"loss\"])"
   ]
  },
  {
   "cell_type": "code",
   "execution_count": 41,
   "id": "417393d5-4003-46b3-a8e5-625f5740ab75",
   "metadata": {},
   "outputs": [
    {
     "name": "stdout",
     "output_type": "stream",
     "text": [
      "\u001b[1m1941/1941\u001b[0m \u001b[32m━━━━━━━━━━━━━━━━━━━━\u001b[0m\u001b[37m\u001b[0m \u001b[1m6s\u001b[0m 3ms/step\n"
     ]
    }
   ],
   "source": [
    "Y_pred = np.concatenate(np.round(material_classificator_CNN.predict(X_test)))"
   ]
  },
  {
   "cell_type": "raw",
   "id": "53ab9876-8832-4bb9-9d58-1be759b87183",
   "metadata": {},
   "source": [
    "m_i = len(glob.glob(\"models/mapper_*\"))\n",
    "s_path = f\"models/mapper_{m_i}\""
   ]
  },
  {
   "cell_type": "code",
   "execution_count": 43,
   "id": "7f441178-3b8f-4bc3-a913-dc279e01aa62",
   "metadata": {},
   "outputs": [],
   "source": [
    "s_path = \"models/mapper_4/\""
   ]
  },
  {
   "cell_type": "code",
   "execution_count": 46,
   "id": "572a085d-fcef-4c79-9a48-a6405af07095",
   "metadata": {},
   "outputs": [
    {
     "data": {
      "image/png": "[encoded data removed]",
      "text/plain": [
       "<Figure size 640x480 with 2 Axes>"
      ]
     },
     "metadata": {},
     "output_type": "display_data"
    }
   ],
   "source": [
    "plot_confusion_matrix(Y_test, np.abs(Y_pred), s_path)"
   ]
  },
  {
   "cell_type": "code",
   "execution_count": 47,
   "id": "839245ca-c045-4120-86cc-259f4844c6eb",
   "metadata": {},
   "outputs": [],
   "source": [
    "# os.mkdir(s_path)\n",
    "material_classificator_CNN.save(f\"{s_path}/model.keras\")\n",
    "np.savez(s_path + \"/test_data.npz\", X_test=X_test, Y_test=Y_test, params=params)"
   ]
  },
  {
   "cell_type": "markdown",
   "id": "c71131b2-9fd0-4b86-834a-232d845ac945",
   "metadata": {},
   "source": [
    "## Mapper $\\Xi$\n",
    "\n",
    "Loat the VAE model and train the two required mapper."
   ]
  },
  {
   "cell_type": "code",
   "execution_count": 4,
   "id": "105a9a3f-4c6a-4c05-9146-30d74e7d8006",
   "metadata": {},
   "outputs": [
    {
     "name": "stderr",
     "output_type": "stream",
     "text": [
      "2024-05-03 06:02:59.937653: I tensorflow/core/common_runtime/gpu/gpu_device.cc:1928] Created device /job:localhost/replica:0/task:0/device:GPU:0 with 46625 MB memory:  -> device: 0, name: NVIDIA RTX A6000, pci bus id: 0000:5e:00.0, compute capability: 8.6\n"
     ]
    },
    {
     "data": {
      "text/html": [
       "<pre style=\"white-space:pre;overflow-x:auto;line-height:normal;font-family:Menlo,'DejaVu Sans Mono',consolas,'Courier New',monospace\"><span style=\"font-weight: bold\">Model: \"vae\"</span>\n",
       "</pre>\n"
      ],
      "text/plain": [
       "\u001b[1mModel: \"vae\"\u001b[0m\n"
      ]
     },
     "metadata": {},
     "output_type": "display_data"
    },
    {
     "data": {
      "text/html": [
       "<pre style=\"white-space:pre;overflow-x:auto;line-height:normal;font-family:Menlo,'DejaVu Sans Mono',consolas,'Courier New',monospace\">┏━━━━━━━━━━━━━━━━━━━━━━━━━━━━━━━━━┳━━━━━━━━━━━━━━━━━━━━━━━━┳━━━━━━━━━━━━━━━┓\n",
       "┃<span style=\"font-weight: bold\"> Layer (type)                    </span>┃<span style=\"font-weight: bold\"> Output Shape           </span>┃<span style=\"font-weight: bold\">       Param # </span>┃\n",
       "┡━━━━━━━━━━━━━━━━━━━━━━━━━━━━━━━━━╇━━━━━━━━━━━━━━━━━━━━━━━━╇━━━━━━━━━━━━━━━┩\n",
       "│ VAE_encoder (<span style=\"color: #0087ff; text-decoration-color: #0087ff\">Functional</span>)        │ ?                      │        <span style=\"color: #00af00; text-decoration-color: #00af00\">11,039</span> │\n",
       "├─────────────────────────────────┼────────────────────────┼───────────────┤\n",
       "│ VAE_decoder (<span style=\"color: #0087ff; text-decoration-color: #0087ff\">Functional</span>)        │ ?                      │        <span style=\"color: #00af00; text-decoration-color: #00af00\">11,467</span> │\n",
       "└─────────────────────────────────┴────────────────────────┴───────────────┘\n",
       "</pre>\n"
      ],
      "text/plain": [
       "┏━━━━━━━━━━━━━━━━━━━━━━━━━━━━━━━━━┳━━━━━━━━━━━━━━━━━━━━━━━━┳━━━━━━━━━━━━━━━┓\n",
       "┃\u001b[1m \u001b[0m\u001b[1mLayer (type)                   \u001b[0m\u001b[1m \u001b[0m┃\u001b[1m \u001b[0m\u001b[1mOutput Shape          \u001b[0m\u001b[1m \u001b[0m┃\u001b[1m \u001b[0m\u001b[1m      Param #\u001b[0m\u001b[1m \u001b[0m┃\n",
       "┡━━━━━━━━━━━━━━━━━━━━━━━━━━━━━━━━━╇━━━━━━━━━━━━━━━━━━━━━━━━╇━━━━━━━━━━━━━━━┩\n",
       "│ VAE_encoder (\u001b[38;5;33mFunctional\u001b[0m)        │ ?                      │        \u001b[38;5;34m11,039\u001b[0m │\n",
       "├─────────────────────────────────┼────────────────────────┼───────────────┤\n",
       "│ VAE_decoder (\u001b[38;5;33mFunctional\u001b[0m)        │ ?                      │        \u001b[38;5;34m11,467\u001b[0m │\n",
       "└─────────────────────────────────┴────────────────────────┴───────────────┘\n"
      ]
     },
     "metadata": {},
     "output_type": "display_data"
    },
    {
     "data": {
      "text/html": [
       "<pre style=\"white-space:pre;overflow-x:auto;line-height:normal;font-family:Menlo,'DejaVu Sans Mono',consolas,'Courier New',monospace\"><span style=\"font-weight: bold\"> Total params: </span><span style=\"color: #00af00; text-decoration-color: #00af00\">22,506</span> (87.91 KB)\n",
       "</pre>\n"
      ],
      "text/plain": [
       "\u001b[1m Total params: \u001b[0m\u001b[38;5;34m22,506\u001b[0m (87.91 KB)\n"
      ]
     },
     "metadata": {},
     "output_type": "display_data"
    },
    {
     "data": {
      "text/html": [
       "<pre style=\"white-space:pre;overflow-x:auto;line-height:normal;font-family:Menlo,'DejaVu Sans Mono',consolas,'Courier New',monospace\"><span style=\"font-weight: bold\"> Trainable params: </span><span style=\"color: #00af00; text-decoration-color: #00af00\">22,444</span> (87.67 KB)\n",
       "</pre>\n"
      ],
      "text/plain": [
       "\u001b[1m Trainable params: \u001b[0m\u001b[38;5;34m22,444\u001b[0m (87.67 KB)\n"
      ]
     },
     "metadata": {},
     "output_type": "display_data"
    },
    {
     "data": {
      "text/html": [
       "<pre style=\"white-space:pre;overflow-x:auto;line-height:normal;font-family:Menlo,'DejaVu Sans Mono',consolas,'Courier New',monospace\"><span style=\"font-weight: bold\"> Non-trainable params: </span><span style=\"color: #00af00; text-decoration-color: #00af00\">62</span> (248.00 B)\n",
       "</pre>\n"
      ],
      "text/plain": [
       "\u001b[1m Non-trainable params: \u001b[0m\u001b[38;5;34m62\u001b[0m (248.00 B)\n"
      ]
     },
     "metadata": {},
     "output_type": "display_data"
    }
   ],
   "source": [
    "vae = vae_model()\n",
    "vae.load_weights(\"models/vaes/vae_4.weights.h5\")\n",
    "vae.summary()"
   ]
  },
  {
   "cell_type": "raw",
   "id": "1d56a4ee-8682-4eda-bc05-db6e66b10cb4",
   "metadata": {},
   "source": [
    "params = {\n",
    "    \"path\": \"../3dIT/measurements/datapool/\",\n",
    "    \"mean_path\": \"../3dIT/measurements/datameans/\",\n",
    "    \"eit_dim\": 4096,\n",
    "    \"supervised\": \"material\",  # \"diameter\" or \"material\"\n",
    "    \"batch_size\": 128,\n",
    "    \"shuffle\": True,\n",
    "}\n",
    "\n",
    "idx = np.arange(0, len(os.listdir(params[\"path\"])))\n",
    "np.random.shuffle(idx)\n",
    "\n",
    "training_generator = DataGenerator(idx[:100_000], **params)"
   ]
  },
  {
   "cell_type": "code",
   "execution_count": 5,
   "id": "d101a68a-0a4f-43fe-9961-7bd41485f32e",
   "metadata": {},
   "outputs": [],
   "source": [
    "params = {\n",
    "    \"path\": \"../3dIT/measurements/datapool/\",\n",
    "    \"mean_path\": \"../3dIT/measurements/datameans/\",\n",
    "    \"eit_dim\": 4096,\n",
    "    \"EIT_shape\": \"matrix\",\n",
    "    \"supervised\": \"anomaly\",  # \"diameter\", \"material\", \"anomaly\"\n",
    "    \"batch_size\": 128,\n",
    "    \"shuffle\": True,\n",
    "}"
   ]
  },
  {
   "cell_type": "code",
   "execution_count": null,
   "id": "b23f85a2-c5ca-4d08-98bb-cacfcb5a8c29",
   "metadata": {},
   "outputs": [
    {
     "name": "stderr",
     "output_type": "stream",
     "text": [
      "  6%|▌         | 7678/124200 [04:07<55:55, 34.72it/s]  "
     ]
    }
   ],
   "source": [
    "X, Y = DataLoader(params)\n",
    "X = z_score(X)\n",
    "X = np.expand_dims(X, axis=3)\n",
    "Y = np.expand_dims(Y, axis=4)"
   ]
  },
  {
   "cell_type": "code",
   "execution_count": 19,
   "id": "e9f69228-2cb4-4b81-ad70-7e84b1ac8941",
   "metadata": {},
   "outputs": [
    {
     "name": "stdout",
     "output_type": "stream",
     "text": [
      "(124200, 64, 64, 1) (124200, 32, 32, 32, 1)\n"
     ]
    }
   ],
   "source": [
    "print(X.shape, Y.shape)"
   ]
  },
  {
   "cell_type": "code",
   "execution_count": null,
   "id": "b85211a5-a3e3-4e26-914a-6c7821ac6626",
   "metadata": {},
   "outputs": [],
   "source": [
    "z = np.empty((X.shape[0], 8, 1))\n",
    "el_signals = np.empty((124200, 64, 64, 1))\n",
    "gamma = np.empty((124200, 32, 32, 32, 1))\n",
    "\n",
    "for n in range(len(training_generator)):\n",
    "    X, y = next(training_generator)\n",
    "    _, _, z = vae.encoder.predict(X)\n",
    "    encodings[n * 100 : (n + 1) * 100, :, :] = np.expand_dims(z, axis=2)\n",
    "    el_signals[n * 100 : (n + 1) * 100, :, :] = y\n",
    "    reference[n * 100 : (n + 1) * 100, :, :] = X"
   ]
  },
  {
   "cell_type": "markdown",
   "id": "dc2551ae-a150-437f-a919-d2aaf239fd8c",
   "metadata": {},
   "source": [
    "## *i)* DNN"
   ]
  },
  {
   "cell_type": "raw",
   "id": "21808f32-cc02-496e-a6e3-0a70ac8264d9",
   "metadata": {},
   "source": [
    "def mapper_model(input_shape=(4_096,), latent_dim=8):\n",
    "    # hyperparameter tuning\n",
    "    # dropout, layer, activation function,tunner structures\n",
    "\n",
    "    mapper_inputs = tf.keras.layers.Input(shape=input_shape)\n",
    "    x = tf.keras.layers.Dense(128, activation=\"relu\")(mapper_inputs)\n",
    "    x = tf.keras.layers.Dense(64, activation=\"relu\")(x)\n",
    "    x = tf.keras.layers.Dense(32, activation=\"relu\")(x)\n",
    "    x = tf.keras.layers.Dense(16, activation=\"relu\")(x)\n",
    "    x = tf.keras.layers.Dense(latent_dim, activation=\"relu\")(x)\n",
    "\n",
    "    return tf.keras.Model(mapper_inputs, x)\n",
    "\n",
    "\n",
    "mapper = mapper_model()\n",
    "mapper.summary()"
   ]
  },
  {
   "cell_type": "raw",
   "id": "588ba4ec-5614-4325-9775-a8642ed736db",
   "metadata": {},
   "source": [
    "mapper.compile(Adam(), loss=\"mse\")"
   ]
  },
  {
   "cell_type": "raw",
   "id": "1cb5d09a-8024-483d-93e6-22afffa7c8d7",
   "metadata": {},
   "source": [
    "history = mapper.fit(u, z, epochs=500, batch_size=128)"
   ]
  },
  {
   "cell_type": "markdown",
   "id": "31221ce5-d3a5-472b-a0ce-b4a9f248c90f",
   "metadata": {
    "tags": []
   },
   "source": [
    "### *ii)* CNN"
   ]
  },
  {
   "cell_type": "code",
   "execution_count": null,
   "id": "126f9821-8ece-46d0-8a75-d39cef33b007",
   "metadata": {},
   "outputs": [],
   "source": [
    "Xscaler = tf.keras.layers.Normalization(axis=2)\n",
    "\n",
    "\n",
    "def model(input_shape=(64, 64, 1), latent_dim=3, kernel=9):\n",
    "    mapper_input = tf.keras.layers.Input(shape=input_shape)\n",
    "\n",
    "    # normalize input data\n",
    "    x = Xscaler(mapper_input)\n",
    "\n",
    "    # convolutional layers\n",
    "    x = tf.keras.layers.Conv2D(8, kernel, strides=(2, 4), padding=\"same\")(x)\n",
    "    # x = MaxPooling2D(pool_size=(2,4))(x)\n",
    "    # x = tf.keras.layers.BatchNormalization()(x)\n",
    "    # x = tf.keras.layers.Activation(\"elu\")(x)\n",
    "    # x = Dropout(0.5)(x)\n",
    "\n",
    "    x = tf.keras.layers.Conv2D(8, kernel, strides=(2, 4), padding=\"same\")(x)\n",
    "    # x = MaxPooling2D(pool_size=(2,4))(x)\n",
    "    # x = BatchNormalization()(x)\n",
    "    # x = Activation(\"elu\")(x)\n",
    "    # x = Dropout(0.5)(x)\n",
    "\n",
    "    x = tf.keras.layers.Conv2D(16, kernel, strides=(2, 4), padding=\"same\")(x)\n",
    "    # x = MaxPooling2D(pool_size=(2,4))(x)\n",
    "    # x = BatchNormalization()(x)\n",
    "    # x = Activation(\"elu\")(x)\n",
    "    # x = Dropout(0.5)(x)\n",
    "\n",
    "    x = tf.keras.layers.Conv2D(16, kernel, strides=(2, 4), padding=\"same\")(x)\n",
    "    # x = MaxPooling2D(pool_size=(2, 4))(x)\n",
    "    # x = tf.keras.layers.BatchNormalization()(x)\n",
    "    # x = Activation(\"elu\")(x)\n",
    "    # x = Dropout(0.25)(x)\n",
    "\n",
    "    x = tf.keras.layers.Flatten()(x)\n",
    "    # x = Dense(latent_dim, activation=\"elu\")(x)\n",
    "    mapper_output = tf.keras.layers.Dense(latent_dim, activation=\"linear\")(x)\n",
    "\n",
    "    return tf.keras.Model(mapper_input, mapper_output)"
   ]
  },
  {
   "cell_type": "code",
   "execution_count": 13,
   "id": "b07129d1-4b11-4ebe-9dae-9626fa20f90f",
   "metadata": {},
   "outputs": [
    {
     "data": {
      "text/html": [
       "<pre style=\"white-space:pre;overflow-x:auto;line-height:normal;font-family:Menlo,'DejaVu Sans Mono',consolas,'Courier New',monospace\"><span style=\"font-weight: bold\">Model: \"functional_1\"</span>\n",
       "</pre>\n"
      ],
      "text/plain": [
       "\u001b[1mModel: \"functional_1\"\u001b[0m\n"
      ]
     },
     "metadata": {},
     "output_type": "display_data"
    },
    {
     "data": {
      "text/html": [
       "<pre style=\"white-space:pre;overflow-x:auto;line-height:normal;font-family:Menlo,'DejaVu Sans Mono',consolas,'Courier New',monospace\">┏━━━━━━━━━━━━━━━━━━━━━━━━━━━━━━━━━┳━━━━━━━━━━━━━━━━━━━━━━━━┳━━━━━━━━━━━━━━━┓\n",
       "┃<span style=\"font-weight: bold\"> Layer (type)                    </span>┃<span style=\"font-weight: bold\"> Output Shape           </span>┃<span style=\"font-weight: bold\">       Param # </span>┃\n",
       "┡━━━━━━━━━━━━━━━━━━━━━━━━━━━━━━━━━╇━━━━━━━━━━━━━━━━━━━━━━━━╇━━━━━━━━━━━━━━━┩\n",
       "│ input_layer_3 (<span style=\"color: #0087ff; text-decoration-color: #0087ff\">InputLayer</span>)      │ (<span style=\"color: #00d7ff; text-decoration-color: #00d7ff\">None</span>, <span style=\"color: #00af00; text-decoration-color: #00af00\">64</span>, <span style=\"color: #00af00; text-decoration-color: #00af00\">64</span>, <span style=\"color: #00af00; text-decoration-color: #00af00\">1</span>)      │             <span style=\"color: #00af00; text-decoration-color: #00af00\">0</span> │\n",
       "├─────────────────────────────────┼────────────────────────┼───────────────┤\n",
       "│ normalization_1 (<span style=\"color: #0087ff; text-decoration-color: #0087ff\">Normalization</span>) │ (<span style=\"color: #00d7ff; text-decoration-color: #00d7ff\">None</span>, <span style=\"color: #00af00; text-decoration-color: #00af00\">64</span>, <span style=\"color: #00af00; text-decoration-color: #00af00\">64</span>, <span style=\"color: #00af00; text-decoration-color: #00af00\">1</span>)      │           <span style=\"color: #00af00; text-decoration-color: #00af00\">129</span> │\n",
       "├─────────────────────────────────┼────────────────────────┼───────────────┤\n",
       "│ conv2d_4 (<span style=\"color: #0087ff; text-decoration-color: #0087ff\">Conv2D</span>)               │ (<span style=\"color: #00d7ff; text-decoration-color: #00d7ff\">None</span>, <span style=\"color: #00af00; text-decoration-color: #00af00\">32</span>, <span style=\"color: #00af00; text-decoration-color: #00af00\">16</span>, <span style=\"color: #00af00; text-decoration-color: #00af00\">8</span>)      │           <span style=\"color: #00af00; text-decoration-color: #00af00\">208</span> │\n",
       "├─────────────────────────────────┼────────────────────────┼───────────────┤\n",
       "│ conv2d_5 (<span style=\"color: #0087ff; text-decoration-color: #0087ff\">Conv2D</span>)               │ (<span style=\"color: #00d7ff; text-decoration-color: #00d7ff\">None</span>, <span style=\"color: #00af00; text-decoration-color: #00af00\">16</span>, <span style=\"color: #00af00; text-decoration-color: #00af00\">4</span>, <span style=\"color: #00af00; text-decoration-color: #00af00\">8</span>)       │         <span style=\"color: #00af00; text-decoration-color: #00af00\">1,608</span> │\n",
       "├─────────────────────────────────┼────────────────────────┼───────────────┤\n",
       "│ conv2d_6 (<span style=\"color: #0087ff; text-decoration-color: #0087ff\">Conv2D</span>)               │ (<span style=\"color: #00d7ff; text-decoration-color: #00d7ff\">None</span>, <span style=\"color: #00af00; text-decoration-color: #00af00\">8</span>, <span style=\"color: #00af00; text-decoration-color: #00af00\">1</span>, <span style=\"color: #00af00; text-decoration-color: #00af00\">16</span>)       │         <span style=\"color: #00af00; text-decoration-color: #00af00\">3,216</span> │\n",
       "├─────────────────────────────────┼────────────────────────┼───────────────┤\n",
       "│ conv2d_7 (<span style=\"color: #0087ff; text-decoration-color: #0087ff\">Conv2D</span>)               │ (<span style=\"color: #00d7ff; text-decoration-color: #00d7ff\">None</span>, <span style=\"color: #00af00; text-decoration-color: #00af00\">4</span>, <span style=\"color: #00af00; text-decoration-color: #00af00\">1</span>, <span style=\"color: #00af00; text-decoration-color: #00af00\">16</span>)       │         <span style=\"color: #00af00; text-decoration-color: #00af00\">6,416</span> │\n",
       "├─────────────────────────────────┼────────────────────────┼───────────────┤\n",
       "│ flatten_2 (<span style=\"color: #0087ff; text-decoration-color: #0087ff\">Flatten</span>)             │ (<span style=\"color: #00d7ff; text-decoration-color: #00d7ff\">None</span>, <span style=\"color: #00af00; text-decoration-color: #00af00\">64</span>)             │             <span style=\"color: #00af00; text-decoration-color: #00af00\">0</span> │\n",
       "├─────────────────────────────────┼────────────────────────┼───────────────┤\n",
       "│ dense_2 (<span style=\"color: #0087ff; text-decoration-color: #0087ff\">Dense</span>)                 │ (<span style=\"color: #00d7ff; text-decoration-color: #00d7ff\">None</span>, <span style=\"color: #00af00; text-decoration-color: #00af00\">1</span>)              │            <span style=\"color: #00af00; text-decoration-color: #00af00\">65</span> │\n",
       "└─────────────────────────────────┴────────────────────────┴───────────────┘\n",
       "</pre>\n"
      ],
      "text/plain": [
       "┏━━━━━━━━━━━━━━━━━━━━━━━━━━━━━━━━━┳━━━━━━━━━━━━━━━━━━━━━━━━┳━━━━━━━━━━━━━━━┓\n",
       "┃\u001b[1m \u001b[0m\u001b[1mLayer (type)                   \u001b[0m\u001b[1m \u001b[0m┃\u001b[1m \u001b[0m\u001b[1mOutput Shape          \u001b[0m\u001b[1m \u001b[0m┃\u001b[1m \u001b[0m\u001b[1m      Param #\u001b[0m\u001b[1m \u001b[0m┃\n",
       "┡━━━━━━━━━━━━━━━━━━━━━━━━━━━━━━━━━╇━━━━━━━━━━━━━━━━━━━━━━━━╇━━━━━━━━━━━━━━━┩\n",
       "│ input_layer_3 (\u001b[38;5;33mInputLayer\u001b[0m)      │ (\u001b[38;5;45mNone\u001b[0m, \u001b[38;5;34m64\u001b[0m, \u001b[38;5;34m64\u001b[0m, \u001b[38;5;34m1\u001b[0m)      │             \u001b[38;5;34m0\u001b[0m │\n",
       "├─────────────────────────────────┼────────────────────────┼───────────────┤\n",
       "│ normalization_1 (\u001b[38;5;33mNormalization\u001b[0m) │ (\u001b[38;5;45mNone\u001b[0m, \u001b[38;5;34m64\u001b[0m, \u001b[38;5;34m64\u001b[0m, \u001b[38;5;34m1\u001b[0m)      │           \u001b[38;5;34m129\u001b[0m │\n",
       "├─────────────────────────────────┼────────────────────────┼───────────────┤\n",
       "│ conv2d_4 (\u001b[38;5;33mConv2D\u001b[0m)               │ (\u001b[38;5;45mNone\u001b[0m, \u001b[38;5;34m32\u001b[0m, \u001b[38;5;34m16\u001b[0m, \u001b[38;5;34m8\u001b[0m)      │           \u001b[38;5;34m208\u001b[0m │\n",
       "├─────────────────────────────────┼────────────────────────┼───────────────┤\n",
       "│ conv2d_5 (\u001b[38;5;33mConv2D\u001b[0m)               │ (\u001b[38;5;45mNone\u001b[0m, \u001b[38;5;34m16\u001b[0m, \u001b[38;5;34m4\u001b[0m, \u001b[38;5;34m8\u001b[0m)       │         \u001b[38;5;34m1,608\u001b[0m │\n",
       "├─────────────────────────────────┼────────────────────────┼───────────────┤\n",
       "│ conv2d_6 (\u001b[38;5;33mConv2D\u001b[0m)               │ (\u001b[38;5;45mNone\u001b[0m, \u001b[38;5;34m8\u001b[0m, \u001b[38;5;34m1\u001b[0m, \u001b[38;5;34m16\u001b[0m)       │         \u001b[38;5;34m3,216\u001b[0m │\n",
       "├─────────────────────────────────┼────────────────────────┼───────────────┤\n",
       "│ conv2d_7 (\u001b[38;5;33mConv2D\u001b[0m)               │ (\u001b[38;5;45mNone\u001b[0m, \u001b[38;5;34m4\u001b[0m, \u001b[38;5;34m1\u001b[0m, \u001b[38;5;34m16\u001b[0m)       │         \u001b[38;5;34m6,416\u001b[0m │\n",
       "├─────────────────────────────────┼────────────────────────┼───────────────┤\n",
       "│ flatten_2 (\u001b[38;5;33mFlatten\u001b[0m)             │ (\u001b[38;5;45mNone\u001b[0m, \u001b[38;5;34m64\u001b[0m)             │             \u001b[38;5;34m0\u001b[0m │\n",
       "├─────────────────────────────────┼────────────────────────┼───────────────┤\n",
       "│ dense_2 (\u001b[38;5;33mDense\u001b[0m)                 │ (\u001b[38;5;45mNone\u001b[0m, \u001b[38;5;34m1\u001b[0m)              │            \u001b[38;5;34m65\u001b[0m │\n",
       "└─────────────────────────────────┴────────────────────────┴───────────────┘\n"
      ]
     },
     "metadata": {},
     "output_type": "display_data"
    },
    {
     "data": {
      "text/html": [
       "<pre style=\"white-space:pre;overflow-x:auto;line-height:normal;font-family:Menlo,'DejaVu Sans Mono',consolas,'Courier New',monospace\"><span style=\"font-weight: bold\"> Total params: </span><span style=\"color: #00af00; text-decoration-color: #00af00\">11,642</span> (45.48 KB)\n",
       "</pre>\n"
      ],
      "text/plain": [
       "\u001b[1m Total params: \u001b[0m\u001b[38;5;34m11,642\u001b[0m (45.48 KB)\n"
      ]
     },
     "metadata": {},
     "output_type": "display_data"
    },
    {
     "data": {
      "text/html": [
       "<pre style=\"white-space:pre;overflow-x:auto;line-height:normal;font-family:Menlo,'DejaVu Sans Mono',consolas,'Courier New',monospace\"><span style=\"font-weight: bold\"> Trainable params: </span><span style=\"color: #00af00; text-decoration-color: #00af00\">11,513</span> (44.97 KB)\n",
       "</pre>\n"
      ],
      "text/plain": [
       "\u001b[1m Trainable params: \u001b[0m\u001b[38;5;34m11,513\u001b[0m (44.97 KB)\n"
      ]
     },
     "metadata": {},
     "output_type": "display_data"
    },
    {
     "data": {
      "text/html": [
       "<pre style=\"white-space:pre;overflow-x:auto;line-height:normal;font-family:Menlo,'DejaVu Sans Mono',consolas,'Courier New',monospace\"><span style=\"font-weight: bold\"> Non-trainable params: </span><span style=\"color: #00af00; text-decoration-color: #00af00\">129</span> (520.00 B)\n",
       "</pre>\n"
      ],
      "text/plain": [
       "\u001b[1m Non-trainable params: \u001b[0m\u001b[38;5;34m129\u001b[0m (520.00 B)\n"
      ]
     },
     "metadata": {},
     "output_type": "display_data"
    }
   ],
   "source": [
    "opt = tf.keras.optimizers.Adam(learning_rate=1e-3)\n",
    "model = model(latent_dim=8, kernel=5)\n",
    "model.compile(optimizer=opt, loss=\"mse\")\n",
    "\n",
    "model.summary()"
   ]
  },
  {
   "cell_type": "code",
   "execution_count": null,
   "id": "2098ba11-dcc7-49df-8550-2021bca0022f",
   "metadata": {},
   "outputs": [
    {
     "name": "stdout",
     "output_type": "stream",
     "text": [
      "Epoch 1/10\n"
     ]
    },
    {
     "name": "stderr",
     "output_type": "stream",
     "text": [
      "/home/jath/.conda/envs/TF2_12/lib/python3.11/site-packages/keras/src/trainers/data_adapters/py_dataset_adapter.py:120: UserWarning: Your `PyDataset` class should call `super().__init__(**kwargs)` in its constructor. `**kwargs` can include `workers`, `use_multiprocessing`, `max_queue_size`. Do not pass these arguments to `fit()`, as they will be ignored.\n",
      "  self._warn_if_super_not_called()\n",
      "2024-04-05 11:44:29.555552: I tensorflow/core/kernels/data/shuffle_dataset_op.cc:450] ShuffleDatasetV3:2: Filling up shuffle buffer (this may take a while): 3 of 8\n",
      "2024-04-05 11:44:48.093369: I tensorflow/core/kernels/data/shuffle_dataset_op.cc:450] ShuffleDatasetV3:2: Filling up shuffle buffer (this may take a while): 7 of 8\n"
     ]
    },
    {
     "name": "stdout",
     "output_type": "stream",
     "text": [
      "\u001b[1m  1/781\u001b[0m \u001b[37m━━━━━━━━━━━━━━━━━━━━\u001b[0m \u001b[1m8:13:41\u001b[0m 38s/step - loss: 0.5144"
     ]
    },
    {
     "name": "stderr",
     "output_type": "stream",
     "text": [
      "2024-04-05 11:44:52.602850: I tensorflow/core/kernels/data/shuffle_dataset_op.cc:480] Shuffle buffer filled.\n"
     ]
    },
    {
     "name": "stdout",
     "output_type": "stream",
     "text": [
      "\u001b[1m357/781\u001b[0m \u001b[32m━━━━━━━━━\u001b[0m\u001b[37m━━━━━━━━━━━\u001b[0m \u001b[1m40:06\u001b[0m 6s/step - loss: 0.1372"
     ]
    }
   ],
   "source": [
    "# es = tf.keras.callback.EarlyStopping(\n",
    "#    monitor=\"val_loss\", mode=\"min\", patience=10, restore_best_weights=True\n",
    "# )\n",
    "# Xscaler.adapt(X)\n",
    "\n",
    "history = model.fit(training_generator, batch_size=128, epochs=10)"
   ]
  },
  {
   "cell_type": "code",
   "execution_count": 9,
   "id": "905ba541-19b6-4f21-9299-bf83bb5b0761",
   "metadata": {},
   "outputs": [
    {
     "data": {
      "text/plain": [
       "[<matplotlib.lines.Line2D at 0x7f17844c8b90>]"
      ]
     },
     "execution_count": 9,
     "metadata": {},
     "output_type": "execute_result"
    },
    {
     "data": {
      "image/png": "[encoded data removed]",
      "text/plain": [
       "<Figure size 640x480 with 1 Axes>"
      ]
     },
     "metadata": {},
     "output_type": "display_data"
    }
   ],
   "source": [
    "plt.plot(history.history[\"loss\"])"
   ]
  },
  {
   "cell_type": "code",
   "execution_count": 11,
   "id": "7b7d4b96-c652-437e-9062-1f4ae3464673",
   "metadata": {},
   "outputs": [],
   "source": [
    "model.save_weights(\"models/material_mapper.weights.h5\")"
   ]
  },
  {
   "cell_type": "markdown",
   "id": "0068bd05-4db7-43de-8c38-8e300e5f55a3",
   "metadata": {},
   "source": [
    "## *iii)* Performance test"
   ]
  },
  {
   "cell_type": "code",
   "execution_count": null,
   "id": "80b97c2f-4a06-438a-9b2f-09f098176efd",
   "metadata": {},
   "outputs": [],
   "source": [
    "training_generator = DataGenerator(idx[10_000:20_000], **params)"
   ]
  }
 ],
 "metadata": {
  "kernelspec": {
   "display_name": "TF2_16_1",
   "language": "python",
   "name": "tf2_16_1"
  },
  "language_info": {
   "codemirror_mode": {
    "name": "ipython",
    "version": 3
   },
   "file_extension": ".py",
   "mimetype": "text/x-python",
   "name": "python",
   "nbconvert_exporter": "python",
   "pygments_lexer": "ipython3",
   "version": "3.11.2"
  }
 },
 "nbformat": 4,
 "nbformat_minor": 5
}
