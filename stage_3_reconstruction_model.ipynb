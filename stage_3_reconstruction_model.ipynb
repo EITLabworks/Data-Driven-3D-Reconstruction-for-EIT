{
 "cells": [
  {
   "cell_type": "code",
   "execution_count": null,
   "id": "a873ae20-8717-4085-96d4-70f433cf0a26",
   "metadata": {},
   "outputs": [],
   "source": [
    "import os\n",
    "\n",
    "import matplotlib.pyplot as plt\n",
    "import numpy as np\n",
    "import pandas as pd\n",
    "import seaborn as sns\n",
    "import tensorflow as tf\n",
    "\n",
    "from src.performance_evaluation import (\n",
    "    center_of_mass,\n",
    "    compute_position_error,\n",
    "    compute_volume_error,\n",
    ")\n",
    "from src.util import plot_reconstruction_set, plot_voxel, plot_voxel_c\n",
    "\n",
    "# import vae\n",
    "from src.vae import vae_model\n",
    "\n",
    "os.environ[\"CUDA_VISIBLE_DEVICES\"] = \"0\""
   ]
  },
  {
   "cell_type": "markdown",
   "id": "565c4a6b-be3c-4c87-a71a-c7e5d2993a40",
   "metadata": {},
   "source": [
    "# Stage 3\n",
    "\n",
    "_Build the full reconstruction network architecture_\n",
    "\n",
    "1. Load the VAE $\\Psi : \\mathbf{z} \\mapsto \\hat{\\gamma}$\n",
    "2. Load the mapper $\\Xi : \\mathbf{u} \\mapsto \\mathbf{z}$\n",
    "3. Load the material classificator $\\Upsilon : \\mathbf{u} \\mapsto m$\n",
    "\n",
    "The final model is described by:\n",
    "\n",
    "$$\\Gamma := \\Xi \\circ \\Psi : \\mathbf{u} \\mapsto \\mathbf{z} \\mapsto \\hat{\\gamma} $$\n",
    "\n",
    "in parallel with the material classification model:\n",
    "\n",
    "$$\\Upsilon : \\mathbf{u} \\mapsto m $$"
   ]
  },
  {
   "cell_type": "markdown",
   "id": "199db893-58f6-4245-8d18-d09af9d66885",
   "metadata": {},
   "source": [
    "## *i)* Load the VAE"
   ]
  },
  {
   "cell_type": "code",
   "execution_count": null,
   "id": "cea755be-a4cf-43e8-9afc-80cac8017c85",
   "metadata": {},
   "outputs": [],
   "source": [
    "vae = vae_model()\n",
    "vae.load_weights(\"models/vaes/vae_21.weights.h5\")  # select VAE 21\n",
    "vae.summary()\n",
    "\n",
    "Φ = vae.encoder\n",
    "Ψ = vae.decoder"
   ]
  },
  {
   "cell_type": "code",
   "execution_count": null,
   "id": "333929b0-8209-4747-87fd-0130f213b4c1",
   "metadata": {},
   "outputs": [],
   "source": [
    "tmp = np.load(\"models/testdata_stage3.npz\", allow_pickle=True)\n",
    "X_test, gamma_test, m_test = (\n",
    "    tmp[\"X_test\"],\n",
    "    tmp[\"gamma_test\"],\n",
    "    tmp[\"m_test\"],\n",
    ")\n",
    "print(X_test.shape, gamma_test.shape, m_test.shape)"
   ]
  },
  {
   "cell_type": "code",
   "execution_count": null,
   "id": "a27da446-5778-4f58-bc45-d324933cee80",
   "metadata": {},
   "outputs": [],
   "source": [
    "_, _, z_pred = Φ.predict(gamma_test)\n",
    "γ_pred = Ψ.predict(z_pred)"
   ]
  },
  {
   "cell_type": "code",
   "execution_count": null,
   "id": "07ad448d-3875-4978-ae1a-d0bfbe0de2c6",
   "metadata": {},
   "outputs": [],
   "source": [
    "for rdn in np.random.randint(low=0, high=X_test.shape[0], size=5):\n",
    "    print(\"True γ distribution\")\n",
    "    plot_voxel(gamma_test[rdn, :, :, :, 0])\n",
    "    sgl_pred = np.squeeze(gamma_test, axis=4)[rdn]\n",
    "    sgl_pred = np.clip(sgl_pred, a_min=0, a_max=1)\n",
    "    print(\"Predicted γ distribution\")\n",
    "    plot_voxel(sgl_pred)\n",
    "    print(\"----------\")"
   ]
  },
  {
   "cell_type": "markdown",
   "id": "515a713b-cd6a-4810-8c10-1cbbab04f9ce",
   "metadata": {},
   "source": [
    "## *ii)* Load the material classification network $\\Upsilon$ and the Mapper $\\Xi$ "
   ]
  },
  {
   "cell_type": "code",
   "execution_count": null,
   "id": "03fc718c-46de-43b9-a81e-bcf227d89b0e",
   "metadata": {},
   "outputs": [],
   "source": [
    "def Upsilon_model(input_shape=(64, 64, 1), m_dim=1, kernel=3):\n",
    "    mapper_input = tf.keras.layers.Input(shape=input_shape)\n",
    "    x = tf.keras.layers.Conv2D(8, kernel, strides=(2, 4), padding=\"same\")(mapper_input)\n",
    "    x = tf.keras.layers.Conv2D(16, kernel, strides=(2, 4), padding=\"same\")(x)\n",
    "    x = tf.keras.layers.Flatten()(x)\n",
    "    x = tf.keras.layers.Dense(128, activation=\"relu\")(x)\n",
    "    x = tf.keras.layers.Dropout(0.2)(x)\n",
    "    x = tf.keras.layers.Dense(16)(x)\n",
    "    mapper_output = tf.keras.layers.Dense(m_dim, activation=\"sigmoid\")(x)\n",
    "    return tf.keras.Model(mapper_input, mapper_output)\n",
    "\n",
    "\n",
    "Y = Upsilon_model()\n",
    "Y.summary()"
   ]
  },
  {
   "cell_type": "code",
   "execution_count": null,
   "id": "9aabb272-a109-4af0-8c15-4bd43424b7cc",
   "metadata": {},
   "outputs": [],
   "source": [
    "Y.load_weights(\"models/material_mapper.weights.h5\")"
   ]
  },
  {
   "cell_type": "code",
   "execution_count": null,
   "id": "21e7d1b7-b6fc-4f02-b68d-dd4bbeb58ad8",
   "metadata": {},
   "outputs": [],
   "source": [
    "def mapper_CNN(input_shape=(64, 64, 1), latent_dim=8):\n",
    "    filters = [4, 8, 16, 32]\n",
    "    kernels = [(4, 4) for _ in range(4)]\n",
    "    strides = [(1, 1) for _ in range(4)]\n",
    "    pools = [(2, 2) for _ in range(4)]\n",
    "\n",
    "    print(f\"{filters=}, kernels{kernels[0]}, strides={strides[0]}, pools={pools[0]}\")\n",
    "\n",
    "    x = tf.keras.layers.Input(shape=input_shape)\n",
    "    mapper_input = x\n",
    "\n",
    "    for f, k, s, p in zip(filters, kernels, strides, pools):\n",
    "        x = tf.keras.layers.Conv2D(\n",
    "            filters=f, kernel_size=k, strides=s, padding=\"valid\", activation=\"relu\"\n",
    "        )(x)\n",
    "        x = tf.keras.layers.MaxPooling2D(pool_size=p)(x)\n",
    "\n",
    "    x = tf.keras.layers.Flatten()(x)\n",
    "    x = tf.keras.layers.Dense(latent_dim, activation=\"relu\")(x)\n",
    "    mapper_output = tf.keras.layers.Dense(latent_dim)(x)\n",
    "\n",
    "    return tf.keras.Model(mapper_input, mapper_output)\n",
    "\n",
    "\n",
    "Ξ = mapper_CNN()\n",
    "# Ξ.compile(optimizer=tf.keras.optimizers.Adam(learning_rate=1e-3), loss=\"mse\")\n",
    "Ξ.summary()"
   ]
  },
  {
   "cell_type": "code",
   "execution_count": null,
   "id": "9bf70c76-3b2d-4aab-afd3-1a702d786ed0",
   "metadata": {},
   "outputs": [],
   "source": [
    "Ξ.load_weights(\"models/mappers/mapper_8.weights.h5\")"
   ]
  },
  {
   "cell_type": "markdown",
   "id": "0063cae6-c99d-43e4-8690-80abc4e9fa7b",
   "metadata": {},
   "source": [
    "## *iii)* Setup the final reconstruction network"
   ]
  },
  {
   "cell_type": "code",
   "execution_count": null,
   "id": "d39ee3fd-120b-4f24-a314-0e6f64e5e4c0",
   "metadata": {},
   "outputs": [],
   "source": [
    "gamma_test = np.squeeze(gamma_test, axis=4)"
   ]
  },
  {
   "cell_type": "code",
   "execution_count": null,
   "id": "c60492a8-1e9a-4d84-a5c1-c70fcd6cfa13",
   "metadata": {},
   "outputs": [],
   "source": [
    "γ_hat = Ψ.predict(Ξ.predict(X_test))\n",
    "γ_hat = np.squeeze(γ_hat, axis=4)\n",
    "γ_hat = np.clip(γ_hat, a_min=0, a_max=1)\n",
    "γ_hat[γ_hat != 0] = 1\n",
    "print(γ_hat.shape)\n",
    "\n",
    "m_pred = np.round(Y.predict(X_test))"
   ]
  },
  {
   "cell_type": "code",
   "execution_count": null,
   "id": "90ae3bd1-2ea1-431c-aa28-8f0aacd9af6f",
   "metadata": {},
   "outputs": [],
   "source": [
    "plot_reconstruction_set(\n",
    "    gamma_test,\n",
    "    m_test,\n",
    "    γ_hat,\n",
    "    m_pred,\n",
    "    save_fig=\"images/predicted_test_data_results.pdf\",\n",
    "    forced_sel=[1891, 3800, 1534, 7498, 7733],\n",
    ")"
   ]
  },
  {
   "cell_type": "code",
   "execution_count": null,
   "id": "83194db2-ef31-4612-b0cb-bcb893e383f2",
   "metadata": {},
   "outputs": [],
   "source": [
    "custom_params = {\"axes.spines.right\": False, \"axes.spines.top\": False}\n",
    "sns.set_theme(style=\"ticks\", rc=custom_params)\n",
    "sns.set_context(context=\"paper\", font_scale=1.4)"
   ]
  },
  {
   "cell_type": "code",
   "execution_count": null,
   "id": "b282cd99-375f-4cb7-bed3-94b37b8dadfa",
   "metadata": {},
   "outputs": [],
   "source": [
    "volumen_error = compute_volume_error(γ_hat, gamma_test)"
   ]
  },
  {
   "cell_type": "code",
   "execution_count": null,
   "id": "f5f31629-4a02-4106-b913-5313911a1579",
   "metadata": {},
   "outputs": [],
   "source": [
    "plt.figure(figsize=(6, 3))\n",
    "sns.histplot(volumen_error, bins=25, kde=True, color=\"#756bb1\")\n",
    "plt.xlabel(\"Voxel element difference\")\n",
    "plt.xlim([-265, 400])\n",
    "plt.ylabel(\"Count\")\n",
    "plt.tight_layout()\n",
    "plt.savefig(\"images/voxel_element_deviation.pdf\")\n",
    "plt.savefig(\"images/voxel_element_deviation.png\")\n",
    "plt.show()"
   ]
  },
  {
   "cell_type": "code",
   "execution_count": null,
   "id": "72aa9ff7-c841-4719-85c3-90c5963c8d49",
   "metadata": {},
   "outputs": [],
   "source": [
    "def compute_voxel_err(predicted_voxels, true_voxels):\n",
    "    com_pred = center_of_mass(predicted_voxels)\n",
    "    com_true = center_of_mass(true_voxels)\n",
    "\n",
    "    return np.array(com_true) - np.array(com_pred)\n",
    "\n",
    "\n",
    "axial_errors = list()\n",
    "for pred_vxls, test_vxls in zip(γ_hat, gamma_test):\n",
    "    axial_errors.append(compute_voxel_err(pred_vxls, test_vxls))\n",
    "axial_errors = np.array(axial_errors)"
   ]
  },
  {
   "cell_type": "code",
   "execution_count": null,
   "id": "af476e47-4e36-4b6b-89c1-dc0a69f8d874",
   "metadata": {},
   "outputs": [],
   "source": [
    "save = False\n",
    "\n",
    "voxel_val_max = 32\n",
    "errors = axial_errors / voxel_val_max * 100\n",
    "data = {\"x-pos\": errors[:, 0], \"y-pos\": errors[:, 1], \"z-pos\": errors[:, 2]}\n",
    "df = pd.DataFrame(data)\n",
    "plt.figure(figsize=(6, 3))\n",
    "custom_palette = [\"#a1d99b\", \"#a1d99b\", \"#a1d99b\"]\n",
    "sns.boxplot(data=df, showfliers=False, palette=custom_palette)\n",
    "# plt.ylim([-1,3])\n",
    "plt.ylabel(\"Error (%)\")\n",
    "plt.tight_layout()\n",
    "plt.savefig(\"images/reconstruction_axis_error.pdf\")\n",
    "plt.savefig(\"images/reconstruction_axis_error.png\")\n",
    "plt.show()"
   ]
  },
  {
   "cell_type": "markdown",
   "id": "3b5bfeae-9991-4b36-98cb-7be8a57334e7",
   "metadata": {},
   "source": [
    "___"
   ]
  }
 ],
 "metadata": {
  "kernelspec": {
   "display_name": "Python 3 (ipykernel)",
   "language": "python",
   "name": "python3"
  },
  "language_info": {
   "codemirror_mode": {
    "name": "ipython",
    "version": 3
   },
   "file_extension": ".py",
   "mimetype": "text/x-python",
   "name": "python",
   "nbconvert_exporter": "python",
   "pygments_lexer": "ipython3",
   "version": "3.10.12"
  }
 },
 "nbformat": 4,
 "nbformat_minor": 5
}
