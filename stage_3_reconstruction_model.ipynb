{
 "cells": [
  {
   "cell_type": "code",
   "execution_count": null,
   "id": "a873ae20-8717-4085-96d4-70f433cf0a26",
   "metadata": {},
   "outputs": [],
   "source": [
    "import tensorflow as tf"
   ]
  },
  {
   "cell_type": "markdown",
   "id": "565c4a6b-be3c-4c87-a71a-c7e5d2993a40",
   "metadata": {},
   "source": [
    "# Stage 3\n",
    "\n",
    "_Build the full reconstruction network architecture_\n",
    "\n",
    "1. Load the VAE $\\Psi$\n",
    "2. Load the mapper $\\Gamma$\n",
    "3. Load the mapper $\\Pi$"
   ]
  },
  {
   "cell_type": "markdown",
   "id": "199db893-58f6-4245-8d18-d09af9d66885",
   "metadata": {},
   "source": [
    "## Load the VAE $\\Psi$"
   ]
  },
  {
   "cell_type": "code",
   "execution_count": null,
   "id": "5104e475-5959-4289-91f5-ebe15885e618",
   "metadata": {},
   "outputs": [],
   "source": [
    "vae.load_weights(\"vae.weights.h5\")"
   ]
  }
 ],
 "metadata": {
  "kernelspec": {
   "display_name": "Python 3 (ipykernel)",
   "language": "python",
   "name": "python3"
  },
  "language_info": {
   "codemirror_mode": {
    "name": "ipython",
    "version": 3
   },
   "file_extension": ".py",
   "mimetype": "text/x-python",
   "name": "python",
   "nbconvert_exporter": "python",
   "pygments_lexer": "ipython3",
   "version": "3.9.10"
  }
 },
 "nbformat": 4,
 "nbformat_minor": 5
}
